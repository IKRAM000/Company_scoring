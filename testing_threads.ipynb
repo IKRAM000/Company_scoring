{
 "cells": [
  {
   "cell_type": "code",
   "execution_count": null,
   "id": "heard-probe",
   "metadata": {},
   "outputs": [],
   "source": [
    "import sys\n",
    "sys.path.append(\"../\")\n",
    "import pandas as pd"
   ]
  },
  {
   "cell_type": "code",
   "execution_count": null,
   "id": "sufficient-intermediate",
   "metadata": {},
   "outputs": [],
   "source": [
    "from selenium import webdriver\n",
    "from selenium.webdriver.common.keys import Keys\n",
    "import time"
   ]
  },
  {
   "cell_type": "code",
   "execution_count": null,
   "id": "ahead-joseph",
   "metadata": {},
   "outputs": [],
   "source": [
    "from WebScraping.linkedin.linkedinScraper import linkedinScraper\n",
    "from WebScraping.facebook.facebookScraper import facebookScraper\n",
    "from WebScraping.crunchbase.crunchbaseScraper import crunchbaseScraper\n",
    "from WebScraping.housemoney.moneyhouseScraper import moneyhouseScraper\n",
    "\n",
    "from WebScraping.twitter.twitterScraper import twitterScraper\n",
    "from WebScraping.dnbweb.dnbScraper import dnbScraper"
   ]
  },
  {
   "cell_type": "code",
   "execution_count": null,
   "id": "frozen-hybrid",
   "metadata": {},
   "outputs": [],
   "source": [
    "from concurrent.futures import ThreadPoolExecutor\n",
    "# we use the threading package to prevent/block the multiple threads while \n",
    "# saving the information to the csv file\n",
    "import threading"
   ]
  },
  {
   "cell_type": "code",
   "execution_count": null,
   "id": "particular-british",
   "metadata": {},
   "outputs": [],
   "source": [
    "df = pd.read_csv(\"companies.csv\")"
   ]
  },
  {
   "cell_type": "code",
   "execution_count": null,
   "id": "behind-preservation",
   "metadata": {},
   "outputs": [],
   "source": []
  }
 ],
 "metadata": {
  "kernelspec": {
   "display_name": "Python 3",
   "language": "python",
   "name": "python3"
  },
  "language_info": {
   "codemirror_mode": {
    "name": "ipython",
    "version": 3
   },
   "file_extension": ".py",
   "mimetype": "text/x-python",
   "name": "python",
   "nbconvert_exporter": "python",
   "pygments_lexer": "ipython3",
   "version": "3.9.6"
  }
 },
 "nbformat": 4,
 "nbformat_minor": 5
}
